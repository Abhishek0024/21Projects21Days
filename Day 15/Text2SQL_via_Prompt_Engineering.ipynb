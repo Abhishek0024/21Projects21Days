{
  "nbformat": 4,
  "nbformat_minor": 0,
  "metadata": {
    "colab": {
      "provenance": []
    },
    "kernelspec": {
      "name": "python3",
      "display_name": "Python 3"
    },
    "language_info": {
      "name": "python"
    }
  },
  "cells": [
    {
      "cell_type": "markdown",
      "source": [
        "# Text2SQL via Prompt Engineering\n"
      ],
      "metadata": {
        "id": "LUUy8izSsE7W"
      }
    },
    {
      "cell_type": "markdown",
      "source": [
        "# Text-to-SQL: Bridging the Gap Between Human Language and Databases\n",
        "\n",
        "\n",
        "Text-to-SQL, also known as Natural Language to SQL (NL2SQL), is a rapidly evolving technology that translates natural, everyday language into Structured Query Language (SQL) commands. This innovative approach empowers users to interact with and retrieve data from databases simply by asking questions in plain English, eliminating the need for specialized knowledge of complex SQL syntax.\n",
        "\n",
        "At its core, Text-to-SQL acts as an intelligent translator. It leverages the power of artificial intelligence, particularly **Natural Language Processing (NLP)** and sophisticated **AI models**, to understand the user's intent and generate the corresponding SQL query. This process allows individuals without a technical background to explore and analyze data, thereby democratizing data access within an organization.\n",
        "\n"
      ],
      "metadata": {
        "id": "RY7By-MssMYZ"
      }
    },
    {
      "cell_type": "markdown",
      "source": [
        "### Retrieve data"
      ],
      "metadata": {
        "id": "UOGa0Q1o4D2P"
      }
    },
    {
      "cell_type": "code",
      "execution_count": null,
      "metadata": {
        "id": "_MHKmI81b_3B",
        "colab": {
          "base_uri": "https://localhost:8080/"
        },
        "outputId": "978357e0-430e-4945-ddd2-182f8762562a"
      },
      "outputs": [
        {
          "output_type": "stream",
          "name": "stdout",
          "text": [
            "  % Total    % Received % Xferd  Average Speed   Time    Time     Time  Current\n",
            "                                 Dload  Upload   Total   Spent    Left  Speed\n",
            "100 84382    0 84382    0     0   5782      0 --:--:--  0:00:14 --:--:--  6451\n"
          ]
        }
      ],
      "source": [
        "!curl \"https://api.mockaroo.com/api/a3056800?count=1000&key=d9f5a790\" > \"Employee_Data.csv\""
      ]
    },
    {
      "cell_type": "code",
      "source": [
        "!curl \"https://api.mockaroo.com/api/3dd5d0b0?count=10&key=d9f5a790\" > \"Department_Data.csv\""
      ],
      "metadata": {
        "colab": {
          "base_uri": "https://localhost:8080/"
        },
        "id": "_6BCM3JD4RTZ",
        "outputId": "08073ada-0046-42bd-b90b-e85418f71e1c"
      },
      "execution_count": null,
      "outputs": [
        {
          "output_type": "stream",
          "name": "stdout",
          "text": [
            "  % Total    % Received % Xferd  Average Speed   Time    Time     Time  Current\n",
            "                                 Dload  Upload   Total   Spent    Left  Speed\n",
            "100   447    0   447    0     0    609      0 --:--:-- --:--:-- --:--:--   609\n"
          ]
        }
      ]
    },
    {
      "cell_type": "markdown",
      "source": [
        "### Setup database"
      ],
      "metadata": {
        "id": "27D0vN9j4v2Y"
      }
    },
    {
      "cell_type": "code",
      "source": [
        "import sqlite3\n",
        "import pandas as pd\n",
        "import os"
      ],
      "metadata": {
        "id": "zjWFbkJ54phs"
      },
      "execution_count": null,
      "outputs": []
    },
    {
      "cell_type": "code",
      "source": [
        "# Define SQL schemas for creating tables\n",
        "department_schema = \"\"\"\n",
        "CREATE TABLE IF NOT EXISTS department (\n",
        "    department_id INT PRIMARY KEY,\n",
        "    department_name VARCHAR(50),\n",
        "    department_code VARCHAR(9),\n",
        "    department_head VARCHAR(50)\n",
        ");\n",
        "\"\"\"\n",
        "employee_schema = \"\"\"\n",
        "CREATE TABLE IF NOT EXISTS employee (\n",
        "    employee_id INT PRIMARY KEY,\n",
        "    first_name VARCHAR(50),\n",
        "    last_name VARCHAR(50),\n",
        "    gender VARCHAR(50),\n",
        "    date_of_birth DATE,\n",
        "    email VARCHAR(50),\n",
        "    phone_number VARCHAR(50),\n",
        "    department_id INT,\n",
        "    salary DECIMAL(8,2),\n",
        "    FOREIGN KEY (department_id) REFERENCES department(department_id)\n",
        ");\n",
        "\"\"\""
      ],
      "metadata": {
        "id": "jY1Q9inv4ze-"
      },
      "execution_count": null,
      "outputs": []
    },
    {
      "cell_type": "code",
      "source": [
        "db_name = 'employees.db'\n",
        "if os.path.exists(db_name):\n",
        "    os.remove(db_name)\n",
        "    print(f\"Removed existing database '{db_name}'.\")"
      ],
      "metadata": {
        "id": "PAnVHTHG5jFV"
      },
      "execution_count": null,
      "outputs": []
    },
    {
      "cell_type": "code",
      "source": [
        "COLUMN_DATA_TYPES = {\n",
        "    'department': {\n",
        "        'department_id': 'int64',\n",
        "        'department_name': 'object',\n",
        "        'department_code': 'object',\n",
        "        'department_head': 'object'\n",
        "    },\n",
        "    'employee': {\n",
        "        'employee_id': 'int64',\n",
        "        'first_name': 'object',\n",
        "        'last_name': 'object',\n",
        "        'gender': 'object',\n",
        "        'date_of_birth': 'datetime64[ns]',\n",
        "        'email': 'object',\n",
        "        'phone_number': 'object',\n",
        "        'department_id': 'int64',\n",
        "        'salary': 'float64'\n",
        "    }\n",
        "}"
      ],
      "metadata": {
        "id": "2aEAWBE36T0i"
      },
      "execution_count": null,
      "outputs": []
    },
    {
      "cell_type": "code",
      "source": [
        "# --- Database setup ---\n",
        "db_name = 'employees.db'\n",
        "conn = None  # Initialize connection to None\n",
        "\n",
        "try:\n",
        "    # Establish a connection to the SQLite database\n",
        "    conn = sqlite3.connect(db_name)\n",
        "    cursor = conn.cursor()\n",
        "    print(f\"Database '{db_name}' created and connected successfully. ✅\")\n",
        "\n",
        "    # Create tables\n",
        "    cursor.execute(department_schema)\n",
        "    cursor.execute(employee_schema)\n",
        "    print(\"Tables 'department' and 'employee'are created successfully.\")\n",
        "\n",
        "    # --- Load data from CSV files into the tables using pandas ---\n",
        "    csv_to_table_map = {\n",
        "        '/content/employee.csv': 'customers',\n",
        "        '/contentdepartment.csv': 'products'\n",
        "    }\n",
        "\n",
        "    for csv_file, table_name in csv_to_table_map.items():\n",
        "        if os.path.exists(csv_file):\n",
        "            print(f\"\\nProcessing '{csv_file}' for table '{table_name}'...\")\n",
        "\n",
        "            # Read the CSV file into a pandas DataFrame\n",
        "            df = pd.read_csv(csv_file)\n",
        "\n",
        "            # 1. Get the expected schema for the current table\n",
        "            expected_schema = COLUMN_DATA_TYPES[table_name]\n",
        "            expected_cols = list(expected_schema.keys())\n",
        "\n",
        "            # 2. Handle missing/extra columns\n",
        "            # Drop columns from DataFrame that are not in the schema\n",
        "            df = df[df.columns.intersection(expected_cols)]\n",
        "\n",
        "            # Add any missing columns and fill with None (which becomes NULL in SQL)\n",
        "            for col in expected_cols:\n",
        "                if col not in df.columns:\n",
        "                    df[col] = None\n",
        "\n",
        "            # 3. Reorder columns to match the defined schema exactly\n",
        "            df = df[expected_cols]\n",
        "\n",
        "            # 4. Enforce data types\n",
        "            for col, dtype in expected_schema.items():\n",
        "                if 'datetime' in dtype:\n",
        "                    # Use pd.to_datetime for date/time columns, coercing errors to NaT (Not a Time)\n",
        "                    df[col] = pd.to_datetime(df[col], errors='coerce')\n",
        "                else:\n",
        "                    # Use astype for other columns, handling potential conversion errors\n",
        "                    try:\n",
        "                        df[col] = df[col].astype(dtype)\n",
        "                    except (ValueError, TypeError) as e:\n",
        "                        print(f\"  - Warning: Could not convert column '{col}' to {dtype}. Error: {e}. Leaving as is.\")\n",
        "\n",
        "\n",
        "            # Use the to_sql method to insert the cleaned DataFrame\n",
        "            df.to_sql(table_name, conn, if_exists='append', index=False)\n",
        "            print(f\"  -> Data from '{csv_file}' loaded into '{table_name}' table successfully.\")\n",
        "        else:\n",
        "            print(f\"Warning: '{csv_file}' not found. Skipping data load for '{table_name}'.\")\n",
        "\n",
        "    # Commit the changes to the database\n",
        "    conn.commit()\n",
        "    print(\"\\nData committed to the database successfully. 🎉\")\n",
        "\n",
        "except sqlite3.Error as e:\n",
        "    print(f\"Database error: {e}\")\n",
        "except pd.errors.EmptyDataError as e:\n",
        "    print(f\"Pandas error: {e}. One of the CSV files might be empty.\")\n",
        "except KeyError as e:\n",
        "    print(f\"Schema definition error: A column is missing from the TABLE_DATA_TYPES dictionary: {e}\")\n",
        "except Exception as e:\n",
        "    print(f\"An unexpected error occurred: {e}\")\n",
        "finally:\n",
        "    # Close the connection if it was established\n",
        "    if conn:\n",
        "        conn.close()\n",
        "        print(\"Database connection closed.\")"
      ],
      "metadata": {
        "colab": {
          "base_uri": "https://localhost:8080/"
        },
        "id": "qP6c5-7O65pp",
        "outputId": "d0ca3c83-4a2b-49cc-eb43-8d0a29cd5fdc"
      },
      "execution_count": null,
      "outputs": [
        {
          "output_type": "stream",
          "name": "stdout",
          "text": [
            "Database 'employees.db' created and connected successfully. ✅\n",
            "Tables 'department' and 'employee'are created successfully.\n",
            "Warning: '/content/employee.csv' not found. Skipping data load for 'customers'.\n",
            "Warning: '/contentdepartment.csv' not found. Skipping data load for 'products'.\n",
            "\n",
            "Data committed to the database successfully. 🎉\n",
            "Database connection closed.\n"
          ]
        }
      ]
    },
    {
      "cell_type": "markdown",
      "source": [
        "## Setup API key\n",
        "- Create an API key from google (https://aistudio.google.com/)\n",
        "- Setup API Key as Secret in Colab\n"
      ],
      "metadata": {
        "id": "YcIx3smm-cRQ"
      }
    },
    {
      "cell_type": "markdown",
      "source": [
        "#### Install Gen AI library"
      ],
      "metadata": {
        "id": "PrU8sbIA-zS_"
      }
    },
    {
      "cell_type": "code",
      "source": [
        "! pip install google-genai"
      ],
      "metadata": {
        "colab": {
          "base_uri": "https://localhost:8080/"
        },
        "id": "dcplNEex-uAy",
        "outputId": "6e708059-2de8-4142-8c89-eef61aa0a3de"
      },
      "execution_count": 9,
      "outputs": [
        {
          "output_type": "stream",
          "name": "stdout",
          "text": [
            "Requirement already satisfied: google-genai in /usr/local/lib/python3.12/dist-packages (1.45.0)\n",
            "Requirement already satisfied: anyio<5.0.0,>=4.8.0 in /usr/local/lib/python3.12/dist-packages (from google-genai) (4.11.0)\n",
            "Requirement already satisfied: google-auth<3.0.0,>=2.14.1 in /usr/local/lib/python3.12/dist-packages (from google-genai) (2.38.0)\n",
            "Requirement already satisfied: httpx<1.0.0,>=0.28.1 in /usr/local/lib/python3.12/dist-packages (from google-genai) (0.28.1)\n",
            "Requirement already satisfied: pydantic<3.0.0,>=2.0.0 in /usr/local/lib/python3.12/dist-packages (from google-genai) (2.11.10)\n",
            "Requirement already satisfied: requests<3.0.0,>=2.28.1 in /usr/local/lib/python3.12/dist-packages (from google-genai) (2.32.4)\n",
            "Requirement already satisfied: tenacity<9.2.0,>=8.2.3 in /usr/local/lib/python3.12/dist-packages (from google-genai) (8.5.0)\n",
            "Requirement already satisfied: websockets<15.1.0,>=13.0.0 in /usr/local/lib/python3.12/dist-packages (from google-genai) (15.0.1)\n",
            "Requirement already satisfied: typing-extensions<5.0.0,>=4.11.0 in /usr/local/lib/python3.12/dist-packages (from google-genai) (4.15.0)\n",
            "Requirement already satisfied: idna>=2.8 in /usr/local/lib/python3.12/dist-packages (from anyio<5.0.0,>=4.8.0->google-genai) (3.11)\n",
            "Requirement already satisfied: sniffio>=1.1 in /usr/local/lib/python3.12/dist-packages (from anyio<5.0.0,>=4.8.0->google-genai) (1.3.1)\n",
            "Requirement already satisfied: cachetools<6.0,>=2.0.0 in /usr/local/lib/python3.12/dist-packages (from google-auth<3.0.0,>=2.14.1->google-genai) (5.5.2)\n",
            "Requirement already satisfied: pyasn1-modules>=0.2.1 in /usr/local/lib/python3.12/dist-packages (from google-auth<3.0.0,>=2.14.1->google-genai) (0.4.2)\n",
            "Requirement already satisfied: rsa<5,>=3.1.4 in /usr/local/lib/python3.12/dist-packages (from google-auth<3.0.0,>=2.14.1->google-genai) (4.9.1)\n",
            "Requirement already satisfied: certifi in /usr/local/lib/python3.12/dist-packages (from httpx<1.0.0,>=0.28.1->google-genai) (2025.10.5)\n",
            "Requirement already satisfied: httpcore==1.* in /usr/local/lib/python3.12/dist-packages (from httpx<1.0.0,>=0.28.1->google-genai) (1.0.9)\n",
            "Requirement already satisfied: h11>=0.16 in /usr/local/lib/python3.12/dist-packages (from httpcore==1.*->httpx<1.0.0,>=0.28.1->google-genai) (0.16.0)\n",
            "Requirement already satisfied: annotated-types>=0.6.0 in /usr/local/lib/python3.12/dist-packages (from pydantic<3.0.0,>=2.0.0->google-genai) (0.7.0)\n",
            "Requirement already satisfied: pydantic-core==2.33.2 in /usr/local/lib/python3.12/dist-packages (from pydantic<3.0.0,>=2.0.0->google-genai) (2.33.2)\n",
            "Requirement already satisfied: typing-inspection>=0.4.0 in /usr/local/lib/python3.12/dist-packages (from pydantic<3.0.0,>=2.0.0->google-genai) (0.4.2)\n",
            "Requirement already satisfied: charset_normalizer<4,>=2 in /usr/local/lib/python3.12/dist-packages (from requests<3.0.0,>=2.28.1->google-genai) (3.4.4)\n",
            "Requirement already satisfied: urllib3<3,>=1.21.1 in /usr/local/lib/python3.12/dist-packages (from requests<3.0.0,>=2.28.1->google-genai) (2.5.0)\n",
            "Requirement already satisfied: pyasn1<0.7.0,>=0.6.1 in /usr/local/lib/python3.12/dist-packages (from pyasn1-modules>=0.2.1->google-auth<3.0.0,>=2.14.1->google-genai) (0.6.1)\n"
          ]
        }
      ]
    },
    {
      "cell_type": "markdown",
      "source": [
        "#### Import required modules"
      ],
      "metadata": {
        "id": "20SfJmLx-8--"
      }
    },
    {
      "cell_type": "code",
      "source": [
        "from google import genai\n",
        "from google.colab import userdata"
      ],
      "metadata": {
        "id": "i03jxBs2-6B3"
      },
      "execution_count": 10,
      "outputs": []
    },
    {
      "cell_type": "code",
      "source": [
        "genai_client = genai.Client(api_key=userdata.get('GOOGLE_API_KEY'))"
      ],
      "metadata": {
        "id": "em2PNxgD_Epp"
      },
      "execution_count": 11,
      "outputs": []
    },
    {
      "cell_type": "markdown",
      "source": [
        "## Prompt Engineering"
      ],
      "metadata": {
        "id": "Svd6jyg-_eMw"
      }
    },
    {
      "cell_type": "code",
      "source": [
        "prompt = \"\"\"\n",
        "\n",
        "###ROLE###\n",
        "You are a highly skilled Text-to-SQL translator with expertise in SQL syntax, database schema interpretation, and natural language understanding. You generate syntactically correct and semantically accurate SQL queries based on user input and a given database schema.\n",
        "\n",
        "###CONTEXT###\n",
        "The user is working with a relational database named `employees`. The database includes two main tables: `employee` and `department`. The goal is to allow users to input natural language queries (in English), and have the model return equivalent SQL statements that accurately extract the requested data using the given schema.\n",
        "\n",
        "Here is the full schema:\n",
        "\n",
        "**Department Table**\n",
        "```sql\n",
        "CREATE TABLE IF NOT EXISTS department (\n",
        "    department_id INT PRIMARY KEY,\n",
        "    department_name VARCHAR(50),\n",
        "    department_code VARCHAR(9),\n",
        "    department_head VARCHAR(50)\n",
        ");\n",
        "```\n",
        "\n",
        "\n",
        "**Employee Table**\n",
        "\n",
        "```sql\n",
        "CREATE TABLE IF NOT EXISTS employee (\n",
        "    employee_id INT PRIMARY KEY,\n",
        "    first_name VARCHAR(50),\n",
        "    last_name VARCHAR(50),\n",
        "    gender VARCHAR(50),\n",
        "    date_of_birth DATE,\n",
        "    email VARCHAR(50),\n",
        "    phone_number VARCHAR(50),\n",
        "    department_id INT,\n",
        "    salary DECIMAL(8,2),\n",
        "    FOREIGN KEY (department_id) REFERENCES department(department_id)\n",
        ");\n",
        "```\n",
        "###TASK###\n",
        "Your task is to:\n",
        "\n",
        "1. Read a natural language query about the employees database.\n",
        "2. Interpret the user's intent based on the schema provided.\n",
        "3. Generate a valid SQL SELECT query that returns the expected result.\n",
        "4. Ensure correct table joins, column selection, filtering, and grouping as necessary.\n",
        "5. Handle aggregate functions (e.g., COUNT, AVG, SUM) where appropriate.\n",
        "6. Disambiguate user terms based on schema details (e.g., \"manager\" → department_head, \"employee name\" → first_name + last_name, etc.).\n",
        "\n",
        "\n",
        "###CONSTRAINTS###\n",
        "\n",
        "* Only return a valid SQL query as output — no explanations or extra text.\n",
        "* The user is using sqllite database - respond with correct and valid sqllite syntax\n",
        "* Use aliases (`AS`) for column names only when the original name is ambiguous.\n",
        "* Do not create or modify tables.\n",
        "* Do not assume the existence of tables or columns not provided in the schema.\n",
        "* Avoid subqueries unless absolutely necessary for correctness or performance.\n",
        "* Prefer readability: indent joins and clauses properly.\n",
        "\n",
        "###EXAMPLES###\n",
        "\n",
        "**Input:** \"Show me the full names and emails of all employees in the Engineering department.\"\n",
        "**Output:**\n",
        "\n",
        "```sql\n",
        "SELECT e.first_name, e.last_name, e.email\n",
        "FROM employee e\n",
        "JOIN department d ON e.department_id = d.department_id\n",
        "WHERE d.department_name = 'Engineering';\n",
        "```\n",
        "\n",
        "**Input:** \"What is the average salary of employees in the Marketing department?\"\n",
        "**Output:**\n",
        "\n",
        "```sql\n",
        "SELECT AVG(e.salary) AS average_salary\n",
        "FROM employee e\n",
        "JOIN department d ON e.department_id = d.department_id\n",
        "WHERE d.department_name = 'Marketing';\n",
        "```\n",
        "\n",
        "**Input:** \"List all department heads and their department codes.\"\n",
        "**Output:**\n",
        "\n",
        "```sql\n",
        "SELECT department_head, department_code\n",
        "FROM department;\n",
        "```\n",
        "\n",
        "**Input:** \"How many employees are there in each department?\"\n",
        "**Output:**\n",
        "\n",
        "```sql\n",
        "SELECT d.department_name, COUNT(e.employee_id) AS employee_count\n",
        "FROM department d\n",
        "LEFT JOIN employee e ON d.department_id = e.department_id\n",
        "GROUP BY d.department_name;\n",
        "```\n",
        "\n",
        "###OUTPUT FORMAT###\n",
        "Return only the sqllite SQL query as a code block using triple backticks and the `sql` language tag, like this:\n",
        "\n",
        "```sql\n",
        "-- Your SQL query here\n",
        "```\n",
        "\"\"\"\n",
        "\n"
      ],
      "metadata": {
        "id": "rYf5eLWs_YuA"
      },
      "execution_count": 12,
      "outputs": []
    },
    {
      "cell_type": "code",
      "source": [
        "import json\n",
        "def get_sql_query_via_gemini(genai_client, prompt, user_query):\n",
        "\n",
        "  # https://www.geeksforgeeks.org/python/formatted-string-literals-f-strings-python/\n",
        "  contents = f\"\"\"\n",
        "  {prompt}\n",
        "\n",
        "  Here's the user query in english you need to work on:\n",
        "  {user_query}\n",
        "  \"\"\"\n",
        "  response = genai_client.models.generate_content(model='gemini-2.5-flash', contents=contents)\n",
        "  # print(response) # uncomment this and understand at the output\n",
        "\n",
        "  # Access the usage_metadata attribute\n",
        "  usage_metadata = response.usage_metadata\n",
        "\n",
        "  # Print the different token counts\n",
        "  print(f\"Input Token Count: {usage_metadata.prompt_token_count}\")\n",
        "  print(f\"Thoughts Token Count: {response.usage_metadata.thoughts_token_count}\")\n",
        "  print(f\"Output Token Count: {usage_metadata.candidates_token_count}\")\n",
        "  print(f\"Total Token Count: {usage_metadata.total_token_count}\")\n",
        "\n",
        "  output = response.text.replace('```sql', '').replace('```', '')\n",
        "\n",
        "  return output\n"
      ],
      "metadata": {
        "id": "7XppFkoTEHUq"
      },
      "execution_count": 13,
      "outputs": []
    },
    {
      "cell_type": "code",
      "source": [
        "import sqlite3\n",
        "import pandas as pd\n",
        "\n",
        "def execute_query(query, db_name='employees.db'):\n",
        "\n",
        "    conn = None\n",
        "    try:\n",
        "        # Connect to the database\n",
        "        conn = sqlite3.connect(db_name)\n",
        "        cursor = conn.cursor()\n",
        "\n",
        "        # Execute the query\n",
        "        print(f\"\\nExecuting query on '{db_name}':\\n{query}\")\n",
        "        cursor.execute(query)\n",
        "\n",
        "        # Fetch all results\n",
        "        results = cursor.fetchall()\n",
        "\n",
        "        # Get column names from the cursor description\n",
        "        columns = [description[0] for description in cursor.description]\n",
        "\n",
        "        # Format results as a dataframe for easier use\n",
        "        results_as_dict = [dict(zip(columns, row)) for row in results]\n",
        "        results_df = pd.DataFrame(results_as_dict)\n",
        "\n",
        "        print(\"Query executed successfully.\")\n",
        "        return results_df\n",
        "\n",
        "    except sqlite3.Error as e:\n",
        "        print(f\"Database error executing query: {e}\")\n",
        "        return None\n",
        "    except Exception as e:\n",
        "        print(f\"An unexpected error occurred: {e}\")\n",
        "        return None\n",
        "    finally:\n",
        "        if conn:\n",
        "            conn.close()"
      ],
      "metadata": {
        "id": "bvbDzu-wENP0"
      },
      "execution_count": 14,
      "outputs": []
    },
    {
      "cell_type": "code",
      "source": [
        "def text2sql(genai_client, prompt, user_query):\n",
        "  output = get_sql_query_via_gemini(genai_client, prompt, user_query)\n",
        "  results = execute_query(output)\n",
        "  return results"
      ],
      "metadata": {
        "id": "rN6v1LQwEV4s"
      },
      "execution_count": 15,
      "outputs": []
    },
    {
      "cell_type": "code",
      "source": [
        "text2sql(genai_client, prompt, \"List all employees who earn more than 70000\")"
      ],
      "metadata": {
        "colab": {
          "base_uri": "https://localhost:8080/",
          "height": 261
        },
        "id": "jSbyHm0gEY_N",
        "outputId": "b7fb1e28-fc02-46f0-d1e0-b174c3cc28cb"
      },
      "execution_count": 16,
      "outputs": [
        {
          "output_type": "stream",
          "name": "stdout",
          "text": [
            "Input Token Count: 881\n",
            "Thoughts Token Count: 76\n",
            "Output Token Count: 21\n",
            "Total Token Count: 978\n",
            "\n",
            "Executing query on 'employees.db':\n",
            "\n",
            "SELECT *\n",
            "FROM employee\n",
            "WHERE salary > 70000;\n",
            "\n",
            "Query executed successfully.\n"
          ]
        },
        {
          "output_type": "execute_result",
          "data": {
            "text/plain": [
              "Empty DataFrame\n",
              "Columns: []\n",
              "Index: []"
            ],
            "text/html": [
              "\n",
              "  <div id=\"df-81aa0506-70e5-4b82-b3c4-4932573f21b5\" class=\"colab-df-container\">\n",
              "    <div>\n",
              "<style scoped>\n",
              "    .dataframe tbody tr th:only-of-type {\n",
              "        vertical-align: middle;\n",
              "    }\n",
              "\n",
              "    .dataframe tbody tr th {\n",
              "        vertical-align: top;\n",
              "    }\n",
              "\n",
              "    .dataframe thead th {\n",
              "        text-align: right;\n",
              "    }\n",
              "</style>\n",
              "<table border=\"1\" class=\"dataframe\">\n",
              "  <thead>\n",
              "    <tr style=\"text-align: right;\">\n",
              "      <th></th>\n",
              "    </tr>\n",
              "  </thead>\n",
              "  <tbody>\n",
              "  </tbody>\n",
              "</table>\n",
              "</div>\n",
              "    <div class=\"colab-df-buttons\">\n",
              "\n",
              "  <div class=\"colab-df-container\">\n",
              "    <button class=\"colab-df-convert\" onclick=\"convertToInteractive('df-81aa0506-70e5-4b82-b3c4-4932573f21b5')\"\n",
              "            title=\"Convert this dataframe to an interactive table.\"\n",
              "            style=\"display:none;\">\n",
              "\n",
              "  <svg xmlns=\"http://www.w3.org/2000/svg\" height=\"24px\" viewBox=\"0 -960 960 960\">\n",
              "    <path d=\"M120-120v-720h720v720H120Zm60-500h600v-160H180v160Zm220 220h160v-160H400v160Zm0 220h160v-160H400v160ZM180-400h160v-160H180v160Zm440 0h160v-160H620v160ZM180-180h160v-160H180v160Zm440 0h160v-160H620v160Z\"/>\n",
              "  </svg>\n",
              "    </button>\n",
              "\n",
              "  <style>\n",
              "    .colab-df-container {\n",
              "      display:flex;\n",
              "      gap: 12px;\n",
              "    }\n",
              "\n",
              "    .colab-df-convert {\n",
              "      background-color: #E8F0FE;\n",
              "      border: none;\n",
              "      border-radius: 50%;\n",
              "      cursor: pointer;\n",
              "      display: none;\n",
              "      fill: #1967D2;\n",
              "      height: 32px;\n",
              "      padding: 0 0 0 0;\n",
              "      width: 32px;\n",
              "    }\n",
              "\n",
              "    .colab-df-convert:hover {\n",
              "      background-color: #E2EBFA;\n",
              "      box-shadow: 0px 1px 2px rgba(60, 64, 67, 0.3), 0px 1px 3px 1px rgba(60, 64, 67, 0.15);\n",
              "      fill: #174EA6;\n",
              "    }\n",
              "\n",
              "    .colab-df-buttons div {\n",
              "      margin-bottom: 4px;\n",
              "    }\n",
              "\n",
              "    [theme=dark] .colab-df-convert {\n",
              "      background-color: #3B4455;\n",
              "      fill: #D2E3FC;\n",
              "    }\n",
              "\n",
              "    [theme=dark] .colab-df-convert:hover {\n",
              "      background-color: #434B5C;\n",
              "      box-shadow: 0px 1px 3px 1px rgba(0, 0, 0, 0.15);\n",
              "      filter: drop-shadow(0px 1px 2px rgba(0, 0, 0, 0.3));\n",
              "      fill: #FFFFFF;\n",
              "    }\n",
              "  </style>\n",
              "\n",
              "    <script>\n",
              "      const buttonEl =\n",
              "        document.querySelector('#df-81aa0506-70e5-4b82-b3c4-4932573f21b5 button.colab-df-convert');\n",
              "      buttonEl.style.display =\n",
              "        google.colab.kernel.accessAllowed ? 'block' : 'none';\n",
              "\n",
              "      async function convertToInteractive(key) {\n",
              "        const element = document.querySelector('#df-81aa0506-70e5-4b82-b3c4-4932573f21b5');\n",
              "        const dataTable =\n",
              "          await google.colab.kernel.invokeFunction('convertToInteractive',\n",
              "                                                    [key], {});\n",
              "        if (!dataTable) return;\n",
              "\n",
              "        const docLinkHtml = 'Like what you see? Visit the ' +\n",
              "          '<a target=\"_blank\" href=https://colab.research.google.com/notebooks/data_table.ipynb>data table notebook</a>'\n",
              "          + ' to learn more about interactive tables.';\n",
              "        element.innerHTML = '';\n",
              "        dataTable['output_type'] = 'display_data';\n",
              "        await google.colab.output.renderOutput(dataTable, element);\n",
              "        const docLink = document.createElement('div');\n",
              "        docLink.innerHTML = docLinkHtml;\n",
              "        element.appendChild(docLink);\n",
              "      }\n",
              "    </script>\n",
              "  </div>\n",
              "\n",
              "\n",
              "    </div>\n",
              "  </div>\n"
            ],
            "application/vnd.google.colaboratory.intrinsic+json": {
              "type": "dataframe",
              "summary": "{\n  \"name\": \"text2sql(genai_client, prompt, \\\"List all employees who earn more than 70000\\\")\",\n  \"rows\": 0,\n  \"fields\": []\n}"
            }
          },
          "metadata": {},
          "execution_count": 16
        }
      ]
    },
    {
      "cell_type": "code",
      "source": [
        "text2sql(genai_client, prompt, \"Show the names and departments of female employees\")"
      ],
      "metadata": {
        "colab": {
          "base_uri": "https://localhost:8080/",
          "height": 279
        },
        "id": "wKBgh6XUEwGF",
        "outputId": "817221b5-c9b8-486e-cdc4-338e24f99c6c"
      },
      "execution_count": 17,
      "outputs": [
        {
          "output_type": "stream",
          "name": "stdout",
          "text": [
            "Input Token Count: 876\n",
            "Thoughts Token Count: 87\n",
            "Output Token Count: 52\n",
            "Total Token Count: 1015\n",
            "\n",
            "Executing query on 'employees.db':\n",
            "\n",
            "SELECT e.first_name, e.last_name, d.department_name\n",
            "FROM employee e\n",
            "JOIN department d ON e.department_id = d.department_id\n",
            "WHERE e.gender = 'Female';\n",
            "\n",
            "Query executed successfully.\n"
          ]
        },
        {
          "output_type": "execute_result",
          "data": {
            "text/plain": [
              "Empty DataFrame\n",
              "Columns: []\n",
              "Index: []"
            ],
            "text/html": [
              "\n",
              "  <div id=\"df-18554d49-9bb9-4429-a647-be30cfa9e618\" class=\"colab-df-container\">\n",
              "    <div>\n",
              "<style scoped>\n",
              "    .dataframe tbody tr th:only-of-type {\n",
              "        vertical-align: middle;\n",
              "    }\n",
              "\n",
              "    .dataframe tbody tr th {\n",
              "        vertical-align: top;\n",
              "    }\n",
              "\n",
              "    .dataframe thead th {\n",
              "        text-align: right;\n",
              "    }\n",
              "</style>\n",
              "<table border=\"1\" class=\"dataframe\">\n",
              "  <thead>\n",
              "    <tr style=\"text-align: right;\">\n",
              "      <th></th>\n",
              "    </tr>\n",
              "  </thead>\n",
              "  <tbody>\n",
              "  </tbody>\n",
              "</table>\n",
              "</div>\n",
              "    <div class=\"colab-df-buttons\">\n",
              "\n",
              "  <div class=\"colab-df-container\">\n",
              "    <button class=\"colab-df-convert\" onclick=\"convertToInteractive('df-18554d49-9bb9-4429-a647-be30cfa9e618')\"\n",
              "            title=\"Convert this dataframe to an interactive table.\"\n",
              "            style=\"display:none;\">\n",
              "\n",
              "  <svg xmlns=\"http://www.w3.org/2000/svg\" height=\"24px\" viewBox=\"0 -960 960 960\">\n",
              "    <path d=\"M120-120v-720h720v720H120Zm60-500h600v-160H180v160Zm220 220h160v-160H400v160Zm0 220h160v-160H400v160ZM180-400h160v-160H180v160Zm440 0h160v-160H620v160ZM180-180h160v-160H180v160Zm440 0h160v-160H620v160Z\"/>\n",
              "  </svg>\n",
              "    </button>\n",
              "\n",
              "  <style>\n",
              "    .colab-df-container {\n",
              "      display:flex;\n",
              "      gap: 12px;\n",
              "    }\n",
              "\n",
              "    .colab-df-convert {\n",
              "      background-color: #E8F0FE;\n",
              "      border: none;\n",
              "      border-radius: 50%;\n",
              "      cursor: pointer;\n",
              "      display: none;\n",
              "      fill: #1967D2;\n",
              "      height: 32px;\n",
              "      padding: 0 0 0 0;\n",
              "      width: 32px;\n",
              "    }\n",
              "\n",
              "    .colab-df-convert:hover {\n",
              "      background-color: #E2EBFA;\n",
              "      box-shadow: 0px 1px 2px rgba(60, 64, 67, 0.3), 0px 1px 3px 1px rgba(60, 64, 67, 0.15);\n",
              "      fill: #174EA6;\n",
              "    }\n",
              "\n",
              "    .colab-df-buttons div {\n",
              "      margin-bottom: 4px;\n",
              "    }\n",
              "\n",
              "    [theme=dark] .colab-df-convert {\n",
              "      background-color: #3B4455;\n",
              "      fill: #D2E3FC;\n",
              "    }\n",
              "\n",
              "    [theme=dark] .colab-df-convert:hover {\n",
              "      background-color: #434B5C;\n",
              "      box-shadow: 0px 1px 3px 1px rgba(0, 0, 0, 0.15);\n",
              "      filter: drop-shadow(0px 1px 2px rgba(0, 0, 0, 0.3));\n",
              "      fill: #FFFFFF;\n",
              "    }\n",
              "  </style>\n",
              "\n",
              "    <script>\n",
              "      const buttonEl =\n",
              "        document.querySelector('#df-18554d49-9bb9-4429-a647-be30cfa9e618 button.colab-df-convert');\n",
              "      buttonEl.style.display =\n",
              "        google.colab.kernel.accessAllowed ? 'block' : 'none';\n",
              "\n",
              "      async function convertToInteractive(key) {\n",
              "        const element = document.querySelector('#df-18554d49-9bb9-4429-a647-be30cfa9e618');\n",
              "        const dataTable =\n",
              "          await google.colab.kernel.invokeFunction('convertToInteractive',\n",
              "                                                    [key], {});\n",
              "        if (!dataTable) return;\n",
              "\n",
              "        const docLinkHtml = 'Like what you see? Visit the ' +\n",
              "          '<a target=\"_blank\" href=https://colab.research.google.com/notebooks/data_table.ipynb>data table notebook</a>'\n",
              "          + ' to learn more about interactive tables.';\n",
              "        element.innerHTML = '';\n",
              "        dataTable['output_type'] = 'display_data';\n",
              "        await google.colab.output.renderOutput(dataTable, element);\n",
              "        const docLink = document.createElement('div');\n",
              "        docLink.innerHTML = docLinkHtml;\n",
              "        element.appendChild(docLink);\n",
              "      }\n",
              "    </script>\n",
              "  </div>\n",
              "\n",
              "\n",
              "    </div>\n",
              "  </div>\n"
            ],
            "application/vnd.google.colaboratory.intrinsic+json": {
              "type": "dataframe",
              "summary": "{\n  \"name\": \"text2sql(genai_client, prompt, \\\"Show the names and departments of female employees\\\")\",\n  \"rows\": 0,\n  \"fields\": []\n}"
            }
          },
          "metadata": {},
          "execution_count": 17
        }
      ]
    },
    {
      "cell_type": "code",
      "source": [
        "text2sql(genai_client, prompt, \"Show all department names and the total salary expense for each\")"
      ],
      "metadata": {
        "colab": {
          "base_uri": "https://localhost:8080/",
          "height": 279
        },
        "id": "4JeUxbnpFUr_",
        "outputId": "22e41871-12b0-4438-d53d-43409a543719"
      },
      "execution_count": 18,
      "outputs": [
        {
          "output_type": "stream",
          "name": "stdout",
          "text": [
            "Input Token Count: 879\n",
            "Thoughts Token Count: 93\n",
            "Output Token Count: 54\n",
            "Total Token Count: 1026\n",
            "\n",
            "Executing query on 'employees.db':\n",
            "\n",
            "SELECT d.department_name, SUM(e.salary) AS total_salary_expense\n",
            "FROM department d\n",
            "LEFT JOIN employee e ON d.department_id = e.department_id\n",
            "GROUP BY d.department_name;\n",
            "\n",
            "Query executed successfully.\n"
          ]
        },
        {
          "output_type": "execute_result",
          "data": {
            "text/plain": [
              "Empty DataFrame\n",
              "Columns: []\n",
              "Index: []"
            ],
            "text/html": [
              "\n",
              "  <div id=\"df-ce997012-afe5-462a-8f24-f83617dfae26\" class=\"colab-df-container\">\n",
              "    <div>\n",
              "<style scoped>\n",
              "    .dataframe tbody tr th:only-of-type {\n",
              "        vertical-align: middle;\n",
              "    }\n",
              "\n",
              "    .dataframe tbody tr th {\n",
              "        vertical-align: top;\n",
              "    }\n",
              "\n",
              "    .dataframe thead th {\n",
              "        text-align: right;\n",
              "    }\n",
              "</style>\n",
              "<table border=\"1\" class=\"dataframe\">\n",
              "  <thead>\n",
              "    <tr style=\"text-align: right;\">\n",
              "      <th></th>\n",
              "    </tr>\n",
              "  </thead>\n",
              "  <tbody>\n",
              "  </tbody>\n",
              "</table>\n",
              "</div>\n",
              "    <div class=\"colab-df-buttons\">\n",
              "\n",
              "  <div class=\"colab-df-container\">\n",
              "    <button class=\"colab-df-convert\" onclick=\"convertToInteractive('df-ce997012-afe5-462a-8f24-f83617dfae26')\"\n",
              "            title=\"Convert this dataframe to an interactive table.\"\n",
              "            style=\"display:none;\">\n",
              "\n",
              "  <svg xmlns=\"http://www.w3.org/2000/svg\" height=\"24px\" viewBox=\"0 -960 960 960\">\n",
              "    <path d=\"M120-120v-720h720v720H120Zm60-500h600v-160H180v160Zm220 220h160v-160H400v160Zm0 220h160v-160H400v160ZM180-400h160v-160H180v160Zm440 0h160v-160H620v160ZM180-180h160v-160H180v160Zm440 0h160v-160H620v160Z\"/>\n",
              "  </svg>\n",
              "    </button>\n",
              "\n",
              "  <style>\n",
              "    .colab-df-container {\n",
              "      display:flex;\n",
              "      gap: 12px;\n",
              "    }\n",
              "\n",
              "    .colab-df-convert {\n",
              "      background-color: #E8F0FE;\n",
              "      border: none;\n",
              "      border-radius: 50%;\n",
              "      cursor: pointer;\n",
              "      display: none;\n",
              "      fill: #1967D2;\n",
              "      height: 32px;\n",
              "      padding: 0 0 0 0;\n",
              "      width: 32px;\n",
              "    }\n",
              "\n",
              "    .colab-df-convert:hover {\n",
              "      background-color: #E2EBFA;\n",
              "      box-shadow: 0px 1px 2px rgba(60, 64, 67, 0.3), 0px 1px 3px 1px rgba(60, 64, 67, 0.15);\n",
              "      fill: #174EA6;\n",
              "    }\n",
              "\n",
              "    .colab-df-buttons div {\n",
              "      margin-bottom: 4px;\n",
              "    }\n",
              "\n",
              "    [theme=dark] .colab-df-convert {\n",
              "      background-color: #3B4455;\n",
              "      fill: #D2E3FC;\n",
              "    }\n",
              "\n",
              "    [theme=dark] .colab-df-convert:hover {\n",
              "      background-color: #434B5C;\n",
              "      box-shadow: 0px 1px 3px 1px rgba(0, 0, 0, 0.15);\n",
              "      filter: drop-shadow(0px 1px 2px rgba(0, 0, 0, 0.3));\n",
              "      fill: #FFFFFF;\n",
              "    }\n",
              "  </style>\n",
              "\n",
              "    <script>\n",
              "      const buttonEl =\n",
              "        document.querySelector('#df-ce997012-afe5-462a-8f24-f83617dfae26 button.colab-df-convert');\n",
              "      buttonEl.style.display =\n",
              "        google.colab.kernel.accessAllowed ? 'block' : 'none';\n",
              "\n",
              "      async function convertToInteractive(key) {\n",
              "        const element = document.querySelector('#df-ce997012-afe5-462a-8f24-f83617dfae26');\n",
              "        const dataTable =\n",
              "          await google.colab.kernel.invokeFunction('convertToInteractive',\n",
              "                                                    [key], {});\n",
              "        if (!dataTable) return;\n",
              "\n",
              "        const docLinkHtml = 'Like what you see? Visit the ' +\n",
              "          '<a target=\"_blank\" href=https://colab.research.google.com/notebooks/data_table.ipynb>data table notebook</a>'\n",
              "          + ' to learn more about interactive tables.';\n",
              "        element.innerHTML = '';\n",
              "        dataTable['output_type'] = 'display_data';\n",
              "        await google.colab.output.renderOutput(dataTable, element);\n",
              "        const docLink = document.createElement('div');\n",
              "        docLink.innerHTML = docLinkHtml;\n",
              "        element.appendChild(docLink);\n",
              "      }\n",
              "    </script>\n",
              "  </div>\n",
              "\n",
              "\n",
              "    </div>\n",
              "  </div>\n"
            ],
            "application/vnd.google.colaboratory.intrinsic+json": {
              "type": "dataframe",
              "summary": "{\n  \"name\": \"text2sql(genai_client, prompt, \\\"Show all department names and the total salary expense for each\\\")\",\n  \"rows\": 0,\n  \"fields\": []\n}"
            }
          },
          "metadata": {},
          "execution_count": 18
        }
      ]
    },
    {
      "cell_type": "code",
      "source": [
        "text2sql(genai_client, prompt, \"List employees whose last name starts with 'S'\")"
      ],
      "metadata": {
        "colab": {
          "base_uri": "https://localhost:8080/",
          "height": 261
        },
        "id": "ahZBHmzTFhHZ",
        "outputId": "828e52ed-5cc2-4dfe-eaf3-989a744659cb"
      },
      "execution_count": 19,
      "outputs": [
        {
          "output_type": "stream",
          "name": "stdout",
          "text": [
            "Input Token Count: 878\n",
            "Thoughts Token Count: 67\n",
            "Output Token Count: 25\n",
            "Total Token Count: 970\n",
            "\n",
            "Executing query on 'employees.db':\n",
            "\n",
            "SELECT first_name, last_name\n",
            "FROM employee\n",
            "WHERE last_name LIKE 'S%';\n",
            "\n",
            "Query executed successfully.\n"
          ]
        },
        {
          "output_type": "execute_result",
          "data": {
            "text/plain": [
              "Empty DataFrame\n",
              "Columns: []\n",
              "Index: []"
            ],
            "text/html": [
              "\n",
              "  <div id=\"df-c38f0b3e-b9e0-413e-b554-929f281951e3\" class=\"colab-df-container\">\n",
              "    <div>\n",
              "<style scoped>\n",
              "    .dataframe tbody tr th:only-of-type {\n",
              "        vertical-align: middle;\n",
              "    }\n",
              "\n",
              "    .dataframe tbody tr th {\n",
              "        vertical-align: top;\n",
              "    }\n",
              "\n",
              "    .dataframe thead th {\n",
              "        text-align: right;\n",
              "    }\n",
              "</style>\n",
              "<table border=\"1\" class=\"dataframe\">\n",
              "  <thead>\n",
              "    <tr style=\"text-align: right;\">\n",
              "      <th></th>\n",
              "    </tr>\n",
              "  </thead>\n",
              "  <tbody>\n",
              "  </tbody>\n",
              "</table>\n",
              "</div>\n",
              "    <div class=\"colab-df-buttons\">\n",
              "\n",
              "  <div class=\"colab-df-container\">\n",
              "    <button class=\"colab-df-convert\" onclick=\"convertToInteractive('df-c38f0b3e-b9e0-413e-b554-929f281951e3')\"\n",
              "            title=\"Convert this dataframe to an interactive table.\"\n",
              "            style=\"display:none;\">\n",
              "\n",
              "  <svg xmlns=\"http://www.w3.org/2000/svg\" height=\"24px\" viewBox=\"0 -960 960 960\">\n",
              "    <path d=\"M120-120v-720h720v720H120Zm60-500h600v-160H180v160Zm220 220h160v-160H400v160Zm0 220h160v-160H400v160ZM180-400h160v-160H180v160Zm440 0h160v-160H620v160ZM180-180h160v-160H180v160Zm440 0h160v-160H620v160Z\"/>\n",
              "  </svg>\n",
              "    </button>\n",
              "\n",
              "  <style>\n",
              "    .colab-df-container {\n",
              "      display:flex;\n",
              "      gap: 12px;\n",
              "    }\n",
              "\n",
              "    .colab-df-convert {\n",
              "      background-color: #E8F0FE;\n",
              "      border: none;\n",
              "      border-radius: 50%;\n",
              "      cursor: pointer;\n",
              "      display: none;\n",
              "      fill: #1967D2;\n",
              "      height: 32px;\n",
              "      padding: 0 0 0 0;\n",
              "      width: 32px;\n",
              "    }\n",
              "\n",
              "    .colab-df-convert:hover {\n",
              "      background-color: #E2EBFA;\n",
              "      box-shadow: 0px 1px 2px rgba(60, 64, 67, 0.3), 0px 1px 3px 1px rgba(60, 64, 67, 0.15);\n",
              "      fill: #174EA6;\n",
              "    }\n",
              "\n",
              "    .colab-df-buttons div {\n",
              "      margin-bottom: 4px;\n",
              "    }\n",
              "\n",
              "    [theme=dark] .colab-df-convert {\n",
              "      background-color: #3B4455;\n",
              "      fill: #D2E3FC;\n",
              "    }\n",
              "\n",
              "    [theme=dark] .colab-df-convert:hover {\n",
              "      background-color: #434B5C;\n",
              "      box-shadow: 0px 1px 3px 1px rgba(0, 0, 0, 0.15);\n",
              "      filter: drop-shadow(0px 1px 2px rgba(0, 0, 0, 0.3));\n",
              "      fill: #FFFFFF;\n",
              "    }\n",
              "  </style>\n",
              "\n",
              "    <script>\n",
              "      const buttonEl =\n",
              "        document.querySelector('#df-c38f0b3e-b9e0-413e-b554-929f281951e3 button.colab-df-convert');\n",
              "      buttonEl.style.display =\n",
              "        google.colab.kernel.accessAllowed ? 'block' : 'none';\n",
              "\n",
              "      async function convertToInteractive(key) {\n",
              "        const element = document.querySelector('#df-c38f0b3e-b9e0-413e-b554-929f281951e3');\n",
              "        const dataTable =\n",
              "          await google.colab.kernel.invokeFunction('convertToInteractive',\n",
              "                                                    [key], {});\n",
              "        if (!dataTable) return;\n",
              "\n",
              "        const docLinkHtml = 'Like what you see? Visit the ' +\n",
              "          '<a target=\"_blank\" href=https://colab.research.google.com/notebooks/data_table.ipynb>data table notebook</a>'\n",
              "          + ' to learn more about interactive tables.';\n",
              "        element.innerHTML = '';\n",
              "        dataTable['output_type'] = 'display_data';\n",
              "        await google.colab.output.renderOutput(dataTable, element);\n",
              "        const docLink = document.createElement('div');\n",
              "        docLink.innerHTML = docLinkHtml;\n",
              "        element.appendChild(docLink);\n",
              "      }\n",
              "    </script>\n",
              "  </div>\n",
              "\n",
              "\n",
              "    </div>\n",
              "  </div>\n"
            ],
            "application/vnd.google.colaboratory.intrinsic+json": {
              "type": "dataframe",
              "summary": "{\n  \"name\": \"text2sql(genai_client, prompt, \\\"List employees whose last name starts with 'S'\\\")\",\n  \"rows\": 0,\n  \"fields\": []\n}"
            }
          },
          "metadata": {},
          "execution_count": 19
        }
      ]
    },
    {
      "cell_type": "code",
      "source": [
        "text2sql(genai_client, prompt, \"Show all employees whose last name is 'Rana'\")"
      ],
      "metadata": {
        "colab": {
          "base_uri": "https://localhost:8080/",
          "height": 261
        },
        "id": "vvhCk7GKFrY-",
        "outputId": "43f55b27-df4b-4973-d4c1-45498df83d0d"
      },
      "execution_count": 20,
      "outputs": [
        {
          "output_type": "stream",
          "name": "stdout",
          "text": [
            "Input Token Count: 879\n",
            "Thoughts Token Count: 40\n",
            "Output Token Count: 50\n",
            "Total Token Count: 969\n",
            "\n",
            "Executing query on 'employees.db':\n",
            "\n",
            "SELECT employee_id, first_name, last_name, gender, date_of_birth, email, phone_number, department_id, salary\n",
            "FROM employee\n",
            "WHERE last_name = 'Rana';\n",
            "\n",
            "Query executed successfully.\n"
          ]
        },
        {
          "output_type": "execute_result",
          "data": {
            "text/plain": [
              "Empty DataFrame\n",
              "Columns: []\n",
              "Index: []"
            ],
            "text/html": [
              "\n",
              "  <div id=\"df-6f58c454-4940-4b6f-9ec1-ad106096a130\" class=\"colab-df-container\">\n",
              "    <div>\n",
              "<style scoped>\n",
              "    .dataframe tbody tr th:only-of-type {\n",
              "        vertical-align: middle;\n",
              "    }\n",
              "\n",
              "    .dataframe tbody tr th {\n",
              "        vertical-align: top;\n",
              "    }\n",
              "\n",
              "    .dataframe thead th {\n",
              "        text-align: right;\n",
              "    }\n",
              "</style>\n",
              "<table border=\"1\" class=\"dataframe\">\n",
              "  <thead>\n",
              "    <tr style=\"text-align: right;\">\n",
              "      <th></th>\n",
              "    </tr>\n",
              "  </thead>\n",
              "  <tbody>\n",
              "  </tbody>\n",
              "</table>\n",
              "</div>\n",
              "    <div class=\"colab-df-buttons\">\n",
              "\n",
              "  <div class=\"colab-df-container\">\n",
              "    <button class=\"colab-df-convert\" onclick=\"convertToInteractive('df-6f58c454-4940-4b6f-9ec1-ad106096a130')\"\n",
              "            title=\"Convert this dataframe to an interactive table.\"\n",
              "            style=\"display:none;\">\n",
              "\n",
              "  <svg xmlns=\"http://www.w3.org/2000/svg\" height=\"24px\" viewBox=\"0 -960 960 960\">\n",
              "    <path d=\"M120-120v-720h720v720H120Zm60-500h600v-160H180v160Zm220 220h160v-160H400v160Zm0 220h160v-160H400v160ZM180-400h160v-160H180v160Zm440 0h160v-160H620v160ZM180-180h160v-160H180v160Zm440 0h160v-160H620v160Z\"/>\n",
              "  </svg>\n",
              "    </button>\n",
              "\n",
              "  <style>\n",
              "    .colab-df-container {\n",
              "      display:flex;\n",
              "      gap: 12px;\n",
              "    }\n",
              "\n",
              "    .colab-df-convert {\n",
              "      background-color: #E8F0FE;\n",
              "      border: none;\n",
              "      border-radius: 50%;\n",
              "      cursor: pointer;\n",
              "      display: none;\n",
              "      fill: #1967D2;\n",
              "      height: 32px;\n",
              "      padding: 0 0 0 0;\n",
              "      width: 32px;\n",
              "    }\n",
              "\n",
              "    .colab-df-convert:hover {\n",
              "      background-color: #E2EBFA;\n",
              "      box-shadow: 0px 1px 2px rgba(60, 64, 67, 0.3), 0px 1px 3px 1px rgba(60, 64, 67, 0.15);\n",
              "      fill: #174EA6;\n",
              "    }\n",
              "\n",
              "    .colab-df-buttons div {\n",
              "      margin-bottom: 4px;\n",
              "    }\n",
              "\n",
              "    [theme=dark] .colab-df-convert {\n",
              "      background-color: #3B4455;\n",
              "      fill: #D2E3FC;\n",
              "    }\n",
              "\n",
              "    [theme=dark] .colab-df-convert:hover {\n",
              "      background-color: #434B5C;\n",
              "      box-shadow: 0px 1px 3px 1px rgba(0, 0, 0, 0.15);\n",
              "      filter: drop-shadow(0px 1px 2px rgba(0, 0, 0, 0.3));\n",
              "      fill: #FFFFFF;\n",
              "    }\n",
              "  </style>\n",
              "\n",
              "    <script>\n",
              "      const buttonEl =\n",
              "        document.querySelector('#df-6f58c454-4940-4b6f-9ec1-ad106096a130 button.colab-df-convert');\n",
              "      buttonEl.style.display =\n",
              "        google.colab.kernel.accessAllowed ? 'block' : 'none';\n",
              "\n",
              "      async function convertToInteractive(key) {\n",
              "        const element = document.querySelector('#df-6f58c454-4940-4b6f-9ec1-ad106096a130');\n",
              "        const dataTable =\n",
              "          await google.colab.kernel.invokeFunction('convertToInteractive',\n",
              "                                                    [key], {});\n",
              "        if (!dataTable) return;\n",
              "\n",
              "        const docLinkHtml = 'Like what you see? Visit the ' +\n",
              "          '<a target=\"_blank\" href=https://colab.research.google.com/notebooks/data_table.ipynb>data table notebook</a>'\n",
              "          + ' to learn more about interactive tables.';\n",
              "        element.innerHTML = '';\n",
              "        dataTable['output_type'] = 'display_data';\n",
              "        await google.colab.output.renderOutput(dataTable, element);\n",
              "        const docLink = document.createElement('div');\n",
              "        docLink.innerHTML = docLinkHtml;\n",
              "        element.appendChild(docLink);\n",
              "      }\n",
              "    </script>\n",
              "  </div>\n",
              "\n",
              "\n",
              "    </div>\n",
              "  </div>\n"
            ],
            "application/vnd.google.colaboratory.intrinsic+json": {
              "type": "dataframe",
              "summary": "{\n  \"name\": \"text2sql(genai_client, prompt, \\\"Show all employees whose last name is 'Rana'\\\")\",\n  \"rows\": 0,\n  \"fields\": []\n}"
            }
          },
          "metadata": {},
          "execution_count": 20
        }
      ]
    },
    {
      "cell_type": "code",
      "source": [],
      "metadata": {
        "id": "ez-ufskxGZ-J"
      },
      "execution_count": null,
      "outputs": []
    }
  ]
}